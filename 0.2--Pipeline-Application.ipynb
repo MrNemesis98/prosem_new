{
 "cells": [
  {
   "cell_type": "code",
   "execution_count": 1,
   "outputs": [],
   "source": [
    "from cltrier_prosem import Pipeline"
   ],
   "metadata": {
    "collapsed": false,
    "ExecuteTime": {
     "end_time": "2023-12-22T15:00:32.897539100Z",
     "start_time": "2023-12-22T15:00:29.018870300Z"
    }
   },
   "id": "d228a31725adcfc0"
  },
  {
   "cell_type": "code",
   "execution_count": 2,
   "outputs": [
    {
     "name": "stderr",
     "output_type": "stream",
     "text": [
      "[--- LOAD ENCODER ---]\n"
     ]
    },
    {
     "data": {
      "text/plain": "tokenizer_config.json:   0%|          | 0.00/83.0 [00:00<?, ?B/s]",
      "application/vnd.jupyter.widget-view+json": {
       "version_major": 2,
       "version_minor": 0,
       "model_id": "f660ff90c67344b7a67d53ba93f54cf0"
      }
     },
     "metadata": {},
     "output_type": "display_data"
    },
    {
     "name": "stderr",
     "output_type": "stream",
     "text": [
      "C:\\Users\\NEMESIS\\.conda\\envs\\prosem_new\\lib\\site-packages\\huggingface_hub\\file_download.py:149: UserWarning: `huggingface_hub` cache-system uses symlinks by default to efficiently store duplicated files but your machine does not support them in C:\\Users\\NEMESIS\\.cache\\huggingface\\hub\\models--deepset--gbert-base. Caching files will still work but in a degraded version that might require more space on your disk. This warning can be disabled by setting the `HF_HUB_DISABLE_SYMLINKS_WARNING` environment variable. For more details, see https://huggingface.co/docs/huggingface_hub/how-to-cache#limitations.\n",
      "To support symlinks on Windows, you either need to activate Developer Mode or to run Python as an administrator. In order to see activate developer mode, see this article: https://docs.microsoft.com/en-us/windows/apps/get-started/enable-your-device-for-development\n",
      "  warnings.warn(message)\n"
     ]
    },
    {
     "data": {
      "text/plain": "config.json:   0%|          | 0.00/362 [00:00<?, ?B/s]",
      "application/vnd.jupyter.widget-view+json": {
       "version_major": 2,
       "version_minor": 0,
       "model_id": "793bf9a33fa34aaa815e6cdcc3b893f7"
      }
     },
     "metadata": {},
     "output_type": "display_data"
    },
    {
     "data": {
      "text/plain": "vocab.txt:   0%|          | 0.00/240k [00:00<?, ?B/s]",
      "application/vnd.jupyter.widget-view+json": {
       "version_major": 2,
       "version_minor": 0,
       "model_id": "d7fb88d39efb4e5cb3276404ca10af8e"
      }
     },
     "metadata": {},
     "output_type": "display_data"
    },
    {
     "data": {
      "text/plain": "model.safetensors:   0%|          | 0.00/442M [00:00<?, ?B/s]",
      "application/vnd.jupyter.widget-view+json": {
       "version_major": 2,
       "version_minor": 0,
       "model_id": "1c696890887343d39e52235398a306c9"
      }
     },
     "metadata": {},
     "output_type": "display_data"
    },
    {
     "name": "stderr",
     "output_type": "stream",
     "text": [
      "> Encoder Name: deepset/gbert-base\n",
      "  Memory Usage: 419.3486 MB\n",
      "> f(__init__) took: 79.7536 sec\n",
      "[--- LOAD TRAINER ---]\n",
      "> Dataset: train\n",
      "  Samples: 11827\n",
      "> Dataset: test\n",
      "  Samples: 2957\n",
      "> Model: Multilayer perceptron\n",
      "  Memory Usage: 1.5078 MB \n",
      "  (0): Linear(in_features=768, out_features=512, bias=True)\n",
      "  (1): Dropout(p=0.2, inplace=False)\n",
      "  (2): LeakyReLU(negative_slope=0.01)\n",
      "  (3): Linear(in_features=512, out_features=3, bias=True)\n",
      "\n"
     ]
    }
   ],
   "source": [
    "pipeline = Pipeline({\n",
    "    'encoder': {\n",
    "        'model': 'deepset/gbert-base',\n",
    "    },\n",
    "    'dataset': {\n",
    "        'path': './data/preparation_output',\n",
    "        'text_column': 'text',\n",
    "        'label_column': 'label',\n",
    "        'label_classes': ['corona', 'web1', 'web2'],\n",
    "    },\n",
    "    'classifier': {\n",
    "        'hid_size': 512,\n",
    "        'dropout': 0.2,\n",
    "    },\n",
    "    'pooler': {\n",
    "        'form': 'cls',\n",
    "        'span_column': 'span'\n",
    "    },\n",
    "    'trainer': {\n",
    "        'num_epochs': 5,\n",
    "        'batch_size': 32,\n",
    "        'learning_rate': 1e-3,\n",
    "        'export_path': './data/results',\n",
    "    }\n",
    "})"
   ],
   "metadata": {
    "collapsed": false,
    "ExecuteTime": {
     "end_time": "2023-12-22T15:01:55.773623800Z",
     "start_time": "2023-12-22T15:00:35.566939700Z"
    }
   },
   "id": "1a0bfc94c2409527"
  },
  {
   "cell_type": "code",
   "execution_count": 4,
   "outputs": [
    {
     "name": "stderr",
     "output_type": "stream",
     "text": [
      "[--- RUN TRAINER ---]\n",
      "[@001]: \tloss_train=0.7385 \tloss_test=0.7572 \tf1_train=0.6568 \tf1_test=0.6336 \tduration=0:41:02.759023\n",
      "[@002]: \tloss_train=0.6968 \tloss_test=0.7300 \tf1_train=0.6755 \tf1_test=0.6554 \tduration=0:40:27.472922\n",
      "[@003]: \tloss_train=0.6740 \tloss_test=0.7387 \tf1_train=0.6888 \tf1_test=0.6497 \tduration=0:39:43.200905\n",
      "Warning: Training interrupted by user, skipping to evaluation if possible.\n",
      "[--- EVALUATION on max(f1_test) ---]\n",
      "              precision    recall  f1-score  support\n",
      "corona         0.676000  0.879292  0.764360    961.0\n",
      "web1           0.640110  0.457311  0.533486   1019.0\n",
      "web2           0.674948  0.676349  0.675648    964.0\n",
      "macro avg      0.663686  0.670984  0.657831   2944.0\n",
      "weighted avg   0.663233  0.666780  0.655400   2944.0\n"
     ]
    }
   ],
   "source": [
    "pipeline()"
   ],
   "metadata": {
    "collapsed": false,
    "ExecuteTime": {
     "end_time": "2023-12-22T17:21:30.607695200Z",
     "start_time": "2023-12-22T15:12:24.577477900Z"
    }
   },
   "id": "5c10430ae17d7c28"
  },
  {
   "cell_type": "code",
   "execution_count": 6,
   "outputs": [],
   "source": [],
   "metadata": {
    "collapsed": false,
    "ExecuteTime": {
     "end_time": "2023-11-13T15:39:47.775420Z",
     "start_time": "2023-11-13T15:39:47.767327Z"
    }
   },
   "id": "820116d505c73227"
  }
 ],
 "metadata": {
  "kernelspec": {
   "display_name": "Python 3",
   "language": "python",
   "name": "python3"
  },
  "language_info": {
   "codemirror_mode": {
    "name": "ipython",
    "version": 2
   },
   "file_extension": ".py",
   "mimetype": "text/x-python",
   "name": "python",
   "nbconvert_exporter": "python",
   "pygments_lexer": "ipython2",
   "version": "2.7.6"
  }
 },
 "nbformat": 4,
 "nbformat_minor": 5
}
