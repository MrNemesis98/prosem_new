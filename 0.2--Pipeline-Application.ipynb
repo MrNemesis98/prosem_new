{
 "cells": [
  {
   "cell_type": "code",
   "execution_count": 10,
   "outputs": [],
   "source": [
    "from cltrier_prosem import Pipeline"
   ],
   "metadata": {
    "collapsed": false,
    "ExecuteTime": {
     "end_time": "2024-01-07T23:22:57.355776700Z",
     "start_time": "2024-01-07T23:22:57.329771400Z"
    }
   },
   "id": "d228a31725adcfc0"
  },
  {
   "cell_type": "code",
   "execution_count": 11,
   "outputs": [
    {
     "name": "stderr",
     "output_type": "stream",
     "text": [
      "[--- LOAD ENCODER ---]\n",
      "> Encoder Name: deepset/gbert-base\n",
      "  Memory Usage: 419.3486 MB\n",
      "> f(__init__) took: 0.5761 sec\n",
      "[--- LOAD TRAINER ---]\n",
      "> Dataset: train\n",
      "  Samples: 11949\n",
      "> Dataset: test\n",
      "  Samples: 2987\n",
      "> Model: Multilayer perceptron\n",
      "  Memory Usage: 1.5078 MB \n",
      "  (0): Linear(in_features=768, out_features=512, bias=True)\n",
      "  (1): Dropout(p=0.2, inplace=False)\n",
      "  (2): LeakyReLU(negative_slope=0.01)\n",
      "  (3): Linear(in_features=512, out_features=3, bias=True)\n",
      "\n"
     ]
    }
   ],
   "source": [
    "pipeline = Pipeline({\n",
    "    'encoder': {\n",
    "        'model': 'deepset/gbert-base',\n",
    "        # 'model': './data/results/querdenker_tu/model.bin'\n",
    "    },\n",
    "    'dataset': {\n",
    "        'path': './data/preparation_output',\n",
    "        'text_column': 'text',\n",
    "        'label_column': 'label',\n",
    "        # 'label_classes': ['corona', 'web2']\n",
    "        'label_classes': ['corona', 'web1', 'web2'],\n",
    "    },\n",
    "    'classifier': {\n",
    "        'hid_size': 512,\n",
    "        'dropout': 0.2,\n",
    "    },\n",
    "    'pooler': {\n",
    "        'form': 'cls',\n",
    "        'span_column': 'span'\n",
    "    },\n",
    "    'trainer': {\n",
    "        'num_epochs': 5,\n",
    "        'batch_size': 32,\n",
    "        'learning_rate': 1e-3,\n",
    "        'export_path': './data/results',\n",
    "    }\n",
    "})"
   ],
   "metadata": {
    "collapsed": false,
    "ExecuteTime": {
     "end_time": "2024-01-07T23:22:57.969914600Z",
     "start_time": "2024-01-07T23:22:57.348775400Z"
    }
   },
   "id": "1a0bfc94c2409527"
  },
  {
   "cell_type": "code",
   "execution_count": 12,
   "outputs": [
    {
     "name": "stderr",
     "output_type": "stream",
     "text": [
      "[--- RUN TRAINER ---]\n",
      "[@001]: \tloss_train=0.8606 \tloss_test=0.8259 \tf1_train=0.5811 \tf1_test=0.5834 \tduration=0:25:50.140314\n",
      "[@002]: \tloss_train=0.8039 \tloss_test=0.8050 \tf1_train=0.6160 \tf1_test=0.5976 \tduration=0:27:40.869917\n",
      "[@003]: \tloss_train=0.7731 \tloss_test=0.7980 \tf1_train=0.6333 \tf1_test=0.6155 \tduration=0:27:49.340512\n",
      "[@004]: \tloss_train=0.7555 \tloss_test=0.7926 \tf1_train=0.6489 \tf1_test=0.6215 \tduration=0:27:23.417411\n",
      "[@005]: \tloss_train=0.7269 \tloss_test=0.8039 \tf1_train=0.6676 \tf1_test=0.6123 \tduration=0:27:43.931511\n",
      "[--- EVALUATION on max(f1_test) ---]\n",
      "              precision    recall  f1-score  support\n",
      "corona         0.677512  0.735202  0.705179    963.0\n",
      "web1           0.562130  0.462963  0.507750   1026.0\n",
      "web2           0.627993  0.690983  0.657984    987.0\n",
      "macro avg      0.622545  0.629716  0.623638   2976.0\n",
      "weighted avg   0.621310  0.626680  0.621461   2976.0\n"
     ]
    }
   ],
   "source": [
    "pipeline()"
   ],
   "metadata": {
    "collapsed": false,
    "ExecuteTime": {
     "end_time": "2024-01-08T01:39:25.837618400Z",
     "start_time": "2024-01-07T23:22:57.964913900Z"
    }
   },
   "id": "5c10430ae17d7c28"
  },
  {
   "cell_type": "code",
   "execution_count": 12,
   "outputs": [],
   "source": [],
   "metadata": {
    "collapsed": false,
    "ExecuteTime": {
     "end_time": "2024-01-08T01:39:25.856623Z",
     "start_time": "2024-01-08T01:39:25.838619700Z"
    }
   },
   "id": "820116d505c73227"
  }
 ],
 "metadata": {
  "kernelspec": {
   "display_name": "Python 3",
   "language": "python",
   "name": "python3"
  },
  "language_info": {
   "codemirror_mode": {
    "name": "ipython",
    "version": 2
   },
   "file_extension": ".py",
   "mimetype": "text/x-python",
   "name": "python",
   "nbconvert_exporter": "python",
   "pygments_lexer": "ipython2",
   "version": "2.7.6"
  }
 },
 "nbformat": 4,
 "nbformat_minor": 5
}
