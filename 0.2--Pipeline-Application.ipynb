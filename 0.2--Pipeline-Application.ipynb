{
 "cells": [
  {
   "cell_type": "code",
   "execution_count": 1,
   "outputs": [
    {
     "name": "stdout",
     "output_type": "stream",
     "text": [
      "pygame 2.5.2 (SDL 2.28.3, Python 3.10.13)\n",
      "Hello from the pygame community. https://www.pygame.org/contribute.html\n"
     ]
    }
   ],
   "source": [
    "from cltrier_prosem import Pipeline\n",
    "import src.notification_sound_player as notification"
   ],
   "metadata": {
    "collapsed": false,
    "ExecuteTime": {
     "end_time": "2024-01-16T23:27:01.297526Z",
     "start_time": "2024-01-16T23:26:56.092356100Z"
    }
   },
   "id": "63b8bc17cb3492ff"
  },
  {
   "cell_type": "code",
   "execution_count": 2,
   "outputs": [],
   "source": [
    "# just a sound test for the notification sound\n",
    "# can be used to mark the beginning of the training session\n",
    "notification.play_mp3(\"./src/Signal.mp3\")"
   ],
   "metadata": {
    "collapsed": false,
    "ExecuteTime": {
     "end_time": "2024-01-16T23:27:02.400293500Z",
     "start_time": "2024-01-16T23:27:01.297526Z"
    }
   },
   "id": "207584293b1ef5ab"
  },
  {
   "cell_type": "code",
   "outputs": [
    {
     "name": "stderr",
     "output_type": "stream",
     "text": [
      "[--- SETUP ---]\n",
      "> Computation Device: cuda\n",
      "[--- LOAD ENCODER ---]\n",
      "> Encoder Name: deepset/gbert-base\n",
      "  Memory Usage: 419.3486 MB\n",
      "> f(__init__) took: 1.7311 sec\n",
      "[--- LOAD TRAINER ---]\n",
      "> Dataset: train\n",
      "  Samples: 7966\n",
      "> Dataset: test\n",
      "  Samples: 1992\n",
      "> Model: Multilayer perceptron\n",
      "  Memory Usage: 1.5059 MB \n",
      "  (0): Linear(in_features=768, out_features=512, bias=True)\n",
      "  (1): Dropout(p=0.2, inplace=False)\n",
      "  (2): LeakyReLU(negative_slope=0.01)\n",
      "  (3): Linear(in_features=512, out_features=2, bias=True)\n",
      "\n"
     ]
    }
   ],
   "source": [
    "# preparing the pipeline settings\n",
    "pipeline = Pipeline({\n",
    "    'encoder': {\n",
    "        'model': 'deepset/gbert-base',\n",
    "        # 'model': './data/results/querdenker_tu/model.bin'\n",
    "    },\n",
    "    'dataset': {\n",
    "        'path': './data/preparation_output',                # path for input parquet-files\n",
    "        'text_column': 'text',                              # define the text / sentence column\n",
    "        'label_column': 'label',                            # define the label column\n",
    "        \n",
    "        # configuration of the expected labels within the datasets\n",
    "        'label_classes': ['corona', 'web2']                 # binary classification\n",
    "        # 'label_classes': ['corona', 'web1', 'web2'],      # trinary classification\n",
    "    },\n",
    "    'classifier': {\n",
    "        'hid_size': 512,\n",
    "        'dropout': 0.2,\n",
    "    },\n",
    "    'pooler': {\n",
    "        'form': 'cls',\n",
    "        'span_column': 'span'\n",
    "    },\n",
    "    'trainer': {\n",
    "        'num_epochs': 20,            \n",
    "        'batch_size': 32,                        \n",
    "        'learning_rate': 1e-3,\n",
    "        'export_path': './data/results',            # define the path for the output files\n",
    "    }\n",
    "})"
   ],
   "metadata": {
    "collapsed": false,
    "ExecuteTime": {
     "end_time": "2024-01-16T23:27:04.643558600Z",
     "start_time": "2024-01-16T23:27:02.400293500Z"
    }
   },
   "id": "1a0bfc94c2409527",
   "execution_count": 3
  },
  {
   "cell_type": "code",
   "execution_count": 4,
   "outputs": [
    {
     "name": "stderr",
     "output_type": "stream",
     "text": [
      "[--- RUN TRAINER ---]\n",
      "[@001]: \tloss_train=0.4718 \tloss_test=0.4409 \tf1_train=0.7673 \tf1_test=0.7870 \tduration=0:00:00\n",
      "[@002]: \tloss_train=0.4219 \tloss_test=0.4207 \tf1_train=0.8013 \tf1_test=0.8037 \tduration=0:00:00\n",
      "[@003]: \tloss_train=0.4025 \tloss_test=0.4223 \tf1_train=0.8067 \tf1_test=0.7966 \tduration=0:00:00\n",
      "[@004]: \tloss_train=0.3843 \tloss_test=0.4180 \tf1_train=0.8142 \tf1_test=0.7963 \tduration=0:00:00\n",
      "[@005]: \tloss_train=0.3755 \tloss_test=0.4975 \tf1_train=0.8198 \tf1_test=0.7401 \tduration=0:00:00\n",
      "[@006]: \tloss_train=0.3597 \tloss_test=0.4268 \tf1_train=0.8286 \tf1_test=0.7962 \tduration=0:00:00\n",
      "[@007]: \tloss_train=0.3445 \tloss_test=0.4248 \tf1_train=0.8333 \tf1_test=0.8060 \tduration=0:00:00\n",
      "[@008]: \tloss_train=0.3264 \tloss_test=0.4237 \tf1_train=0.8479 \tf1_test=0.8068 \tduration=0:00:00\n",
      "[@009]: \tloss_train=0.3119 \tloss_test=0.4572 \tf1_train=0.8503 \tf1_test=0.7890 \tduration=0:00:00\n",
      "[@010]: \tloss_train=0.2982 \tloss_test=0.4804 \tf1_train=0.8602 \tf1_test=0.7857 \tduration=0:00:00\n",
      "[@011]: \tloss_train=0.2873 \tloss_test=0.4625 \tf1_train=0.8645 \tf1_test=0.8199 \tduration=0:00:00\n",
      "[@012]: \tloss_train=0.2723 \tloss_test=0.4573 \tf1_train=0.8701 \tf1_test=0.7898 \tduration=0:00:00\n",
      "[@013]: \tloss_train=0.2546 \tloss_test=0.4761 \tf1_train=0.8781 \tf1_test=0.7997 \tduration=0:00:00\n",
      "[@014]: \tloss_train=0.2451 \tloss_test=0.4903 \tf1_train=0.8802 \tf1_test=0.7997 \tduration=0:00:00\n",
      "[@015]: \tloss_train=0.2311 \tloss_test=0.4943 \tf1_train=0.8935 \tf1_test=0.8039 \tduration=0:00:00\n",
      "[@016]: \tloss_train=0.2252 \tloss_test=0.5001 \tf1_train=0.8930 \tf1_test=0.8061 \tduration=0:00:00\n",
      "[@017]: \tloss_train=0.2168 \tloss_test=0.4981 \tf1_train=0.8998 \tf1_test=0.8049 \tduration=0:00:00\n",
      "[@018]: \tloss_train=0.2048 \tloss_test=0.5327 \tf1_train=0.9013 \tf1_test=0.8110 \tduration=0:00:00\n",
      "[@019]: \tloss_train=0.1972 \tloss_test=0.5133 \tf1_train=0.9088 \tf1_test=0.8012 \tduration=0:00:00\n",
      "[@020]: \tloss_train=0.1815 \tloss_test=0.5293 \tf1_train=0.9148 \tf1_test=0.8085 \tduration=0:00:00\n",
      "[--- EVALUATION on max(f1_test) ---]\n",
      "              precision    recall  f1-score  support\n",
      "corona         0.833154  0.793033  0.812598    976.0\n",
      "web2           0.808531  0.846230  0.826951   1008.0\n",
      "macro avg      0.820842  0.819631  0.819775   1984.0\n",
      "weighted avg   0.820644  0.820060  0.819890   1984.0\n"
     ]
    }
   ],
   "source": [
    "# executing of the pipeline function:\n",
    "# this function accesses the files train.parquet and test.parquet \n",
    "# in the folder data/preparation_output as expected input\n",
    "# therefore be sure, your preprocessed datasets are in the mentioned folder and named respectively\n",
    "pipeline()\n",
    "\n",
    "# just a double notification to mark the end of the training process\n",
    "notification.play_mp3(\"./src/Signal.mp3\")\n",
    "notification.play_mp3(\"./src/Signal.mp3\")"
   ],
   "metadata": {
    "collapsed": false,
    "ExecuteTime": {
     "end_time": "2024-01-16T23:37:19.106086500Z",
     "start_time": "2024-01-16T23:27:04.644556500Z"
    }
   },
   "id": "5c10430ae17d7c28"
  },
  {
   "cell_type": "code",
   "outputs": [],
   "source": [],
   "metadata": {
    "collapsed": false,
    "ExecuteTime": {
     "end_time": "2024-01-16T23:37:19.114089300Z",
     "start_time": "2024-01-16T23:37:19.107088Z"
    }
   },
   "id": "7933dd3c83799b18",
   "execution_count": 4
  }
 ],
 "metadata": {
  "kernelspec": {
   "display_name": "Python 3",
   "language": "python",
   "name": "python3"
  },
  "language_info": {
   "codemirror_mode": {
    "name": "ipython",
    "version": 2
   },
   "file_extension": ".py",
   "mimetype": "text/x-python",
   "name": "python",
   "nbconvert_exporter": "python",
   "pygments_lexer": "ipython2",
   "version": "2.7.6"
  }
 },
 "nbformat": 4,
 "nbformat_minor": 5
}
