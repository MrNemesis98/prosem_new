{
 "cells": [
  {
   "cell_type": "code",
   "execution_count": 5,
   "outputs": [],
   "source": [
    "from cltrier_prosem import Pipeline"
   ],
   "metadata": {
    "collapsed": false,
    "ExecuteTime": {
     "end_time": "2024-01-02T12:57:17.157960700Z",
     "start_time": "2024-01-02T12:57:17.149959600Z"
    }
   },
   "id": "d228a31725adcfc0"
  },
  {
   "cell_type": "code",
   "execution_count": 8,
   "outputs": [
    {
     "name": "stderr",
     "output_type": "stream",
     "text": [
      "[--- LOAD ENCODER ---]\n",
      "> Encoder Name: deepset/gbert-base\n",
      "  Memory Usage: 419.3486 MB\n",
      "> f(__init__) took: 0.9562 sec\n",
      "[--- LOAD TRAINER ---]\n",
      "> Dataset: train\n",
      "  Samples: 11783\n",
      "> Dataset: test\n",
      "  Samples: 1354\n",
      "> Model: Multilayer perceptron\n",
      "  Memory Usage: 1.5059 MB \n",
      "  (0): Linear(in_features=768, out_features=512, bias=True)\n",
      "  (1): Dropout(p=0.2, inplace=False)\n",
      "  (2): LeakyReLU(negative_slope=0.01)\n",
      "  (3): Linear(in_features=512, out_features=2, bias=True)\n",
      "\n"
     ]
    }
   ],
   "source": [
    "pipeline = Pipeline({\n",
    "    'encoder': {\n",
    "        'model': 'deepset/gbert-base',\n",
    "        # 'model': './data/results/querdenker_tu/model.bin'\n",
    "    },\n",
    "    'dataset': {\n",
    "        'path': './data/preparation_output',\n",
    "        'text_column': 'text',\n",
    "        'label_column': 'label',\n",
    "        'label_classes': ['corona', 'web2']\n",
    "        # 'label_classes': ['corona', 'web1', 'web2'],\n",
    "    },\n",
    "    'classifier': {\n",
    "        'hid_size': 512,\n",
    "        'dropout': 0.2,\n",
    "    },\n",
    "    'pooler': {\n",
    "        'form': 'cls',\n",
    "        'span_column': 'span'\n",
    "    },\n",
    "    'trainer': {\n",
    "        'num_epochs': 5,\n",
    "        'batch_size': 32,\n",
    "        'learning_rate': 1e-3,\n",
    "        'export_path': './data/results',\n",
    "    }\n",
    "})"
   ],
   "metadata": {
    "collapsed": false,
    "ExecuteTime": {
     "end_time": "2024-01-02T16:28:09.802825700Z",
     "start_time": "2024-01-02T16:28:08.800602200Z"
    }
   },
   "id": "1a0bfc94c2409527"
  },
  {
   "cell_type": "code",
   "execution_count": 9,
   "outputs": [
    {
     "name": "stderr",
     "output_type": "stream",
     "text": [
      "[--- RUN TRAINER ---]\n",
      "[@001]: \tloss_train=0.2730 \tloss_test=0.2104 \tf1_train=0.8859 \tf1_test=0.9173 \tduration=0:30:11.180183\n",
      "[@002]: \tloss_train=0.2234 \tloss_test=0.3045 \tf1_train=0.9082 \tf1_test=0.8790 \tduration=0:31:40.257095\n",
      "[@003]: \tloss_train=0.2058 \tloss_test=0.1896 \tf1_train=0.9154 \tf1_test=0.9216 \tduration=0:31:11.350077\n",
      "[@004]: \tloss_train=0.1865 \tloss_test=0.3666 \tf1_train=0.9246 \tf1_test=0.8562 \tduration=0:29:08.593593\n",
      "[@005]: \tloss_train=0.1778 \tloss_test=0.3217 \tf1_train=0.9298 \tf1_test=0.8741 \tduration=0:31:20.507021\n",
      "[--- EVALUATION on max(f1_test) ---]\n",
      "              precision    recall  f1-score  support\n",
      "corona         0.961809  0.932749  0.947056   1026.0\n",
      "web2           0.802292  0.880503  0.839580    318.0\n",
      "macro avg      0.882051  0.906626  0.893318   1344.0\n",
      "weighted avg   0.924066  0.920387  0.921626   1344.0\n"
     ]
    }
   ],
   "source": [
    "pipeline()"
   ],
   "metadata": {
    "collapsed": false,
    "ExecuteTime": {
     "end_time": "2024-01-02T19:01:45.365630900Z",
     "start_time": "2024-01-02T16:28:13.364637Z"
    }
   },
   "id": "5c10430ae17d7c28"
  },
  {
   "cell_type": "code",
   "execution_count": 6,
   "outputs": [],
   "source": [],
   "metadata": {
    "collapsed": false,
    "ExecuteTime": {
     "end_time": "2023-11-13T15:39:47.775420Z",
     "start_time": "2023-11-13T15:39:47.767327Z"
    }
   },
   "id": "820116d505c73227"
  }
 ],
 "metadata": {
  "kernelspec": {
   "display_name": "Python 3",
   "language": "python",
   "name": "python3"
  },
  "language_info": {
   "codemirror_mode": {
    "name": "ipython",
    "version": 2
   },
   "file_extension": ".py",
   "mimetype": "text/x-python",
   "name": "python",
   "nbconvert_exporter": "python",
   "pygments_lexer": "ipython2",
   "version": "2.7.6"
  }
 },
 "nbformat": 4,
 "nbformat_minor": 5
}
