{
 "cells": [
  {
   "cell_type": "code",
   "execution_count": 1,
   "outputs": [],
   "source": [
    "from cltrier_prosem import Pipeline"
   ],
   "metadata": {
    "collapsed": false,
    "ExecuteTime": {
     "end_time": "2024-01-08T13:00:41.115214800Z",
     "start_time": "2024-01-08T13:00:37.430589Z"
    }
   },
   "id": "d228a31725adcfc0"
  },
  {
   "cell_type": "code",
   "execution_count": 2,
   "outputs": [
    {
     "name": "stderr",
     "output_type": "stream",
     "text": [
      "[--- SETUP ---]\n",
      "> Computation Device: cuda\n",
      "[--- LOAD ENCODER ---]\n",
      "> Encoder Name: deepset/gbert-base\n",
      "  Memory Usage: 419.3486 MB\n",
      "> f(__init__) took: 1.6905 sec\n",
      "[--- LOAD TRAINER ---]\n",
      "> Dataset: train\n",
      "  Samples: 7982\n",
      "> Dataset: test\n",
      "  Samples: 1995\n",
      "> Model: Multilayer perceptron\n",
      "  Memory Usage: 1.5059 MB \n",
      "  (0): Linear(in_features=768, out_features=512, bias=True)\n",
      "  (1): Dropout(p=0.2, inplace=False)\n",
      "  (2): LeakyReLU(negative_slope=0.01)\n",
      "  (3): Linear(in_features=512, out_features=2, bias=True)\n",
      "\n"
     ]
    }
   ],
   "source": [
    "pipeline = Pipeline({\n",
    "    'encoder': {\n",
    "        'model': 'deepset/gbert-base',\n",
    "        # 'model': './data/results/querdenker_tu/model.bin'\n",
    "    },\n",
    "    'dataset': {\n",
    "        'path': './data/preparation_output',\n",
    "        'text_column': 'text',\n",
    "        'label_column': 'label',\n",
    "        'label_classes': ['corona', 'web2']\n",
    "        # 'label_classes': ['corona', 'web1', 'web2'],\n",
    "    },\n",
    "    'classifier': {\n",
    "        'hid_size': 512,\n",
    "        'dropout': 0.2,\n",
    "    },\n",
    "    'pooler': {\n",
    "        'form': 'cls',\n",
    "        'span_column': 'span'\n",
    "    },\n",
    "    'trainer': {\n",
    "        'num_epochs': 5,\n",
    "        'batch_size': 32,\n",
    "        'learning_rate': 1e-3,\n",
    "        'export_path': './data/results',\n",
    "    }\n",
    "})"
   ],
   "metadata": {
    "collapsed": false,
    "ExecuteTime": {
     "end_time": "2024-01-08T13:00:43.358698100Z",
     "start_time": "2024-01-08T13:00:41.115214800Z"
    }
   },
   "id": "1a0bfc94c2409527"
  },
  {
   "cell_type": "code",
   "execution_count": 3,
   "outputs": [
    {
     "name": "stderr",
     "output_type": "stream",
     "text": [
      "[--- RUN TRAINER ---]\n",
      "[@001]: \tloss_train=0.1861 \tloss_test=0.1314 \tf1_train=0.9218 \tf1_test=0.9471 \tduration=0:00:00\n",
      "[@002]: \tloss_train=0.1242 \tloss_test=0.1516 \tf1_train=0.9533 \tf1_test=0.9354 \tduration=0:00:00\n",
      "[@003]: \tloss_train=0.1096 \tloss_test=0.1255 \tf1_train=0.9577 \tf1_test=0.9491 \tduration=0:00:00\n",
      "[@004]: \tloss_train=0.0924 \tloss_test=0.1121 \tf1_train=0.9646 \tf1_test=0.9627 \tduration=0:00:00\n",
      "[@005]: \tloss_train=0.0814 \tloss_test=0.1189 \tf1_train=0.9706 \tf1_test=0.9562 \tduration=0:00:00\n",
      "[--- EVALUATION on max(f1_test) ---]\n",
      "              precision    recall  f1-score  support\n",
      "corona         0.969792  0.953893  0.961777    976.0\n",
      "web2           0.956055  0.971230  0.963583   1008.0\n",
      "macro avg      0.962923  0.962562  0.962680   1984.0\n",
      "weighted avg   0.962812  0.962702  0.962694   1984.0\n"
     ]
    }
   ],
   "source": [
    "pipeline()"
   ],
   "metadata": {
    "collapsed": false,
    "ExecuteTime": {
     "end_time": "2024-01-08T13:27:17.474885900Z",
     "start_time": "2024-01-08T13:00:43.361697600Z"
    }
   },
   "id": "5c10430ae17d7c28"
  },
  {
   "cell_type": "code",
   "execution_count": 3,
   "outputs": [],
   "source": [],
   "metadata": {
    "collapsed": false,
    "ExecuteTime": {
     "end_time": "2024-01-08T13:27:17.495900Z",
     "start_time": "2024-01-08T13:27:17.477885600Z"
    }
   },
   "id": "820116d505c73227"
  }
 ],
 "metadata": {
  "kernelspec": {
   "display_name": "Python 3",
   "language": "python",
   "name": "python3"
  },
  "language_info": {
   "codemirror_mode": {
    "name": "ipython",
    "version": 2
   },
   "file_extension": ".py",
   "mimetype": "text/x-python",
   "name": "python",
   "nbconvert_exporter": "python",
   "pygments_lexer": "ipython2",
   "version": "2.7.6"
  }
 },
 "nbformat": 4,
 "nbformat_minor": 5
}
