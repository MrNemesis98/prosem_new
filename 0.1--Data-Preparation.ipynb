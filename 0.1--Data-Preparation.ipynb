{
 "cells": [
  {
   "cell_type": "code",
   "execution_count": 233,
   "id": "initial_id",
   "metadata": {
    "collapsed": true,
    "ExecuteTime": {
     "end_time": "2024-01-05T16:57:10.364639200Z",
     "start_time": "2024-01-05T16:57:10.359637800Z"
    }
   },
   "outputs": [],
   "source": [
    "import pandas as pd\n",
    "import ast"
   ]
  },
  {
   "cell_type": "code",
   "execution_count": 234,
   "outputs": [],
   "source": [
    "# define the path for the input csv files\n",
    "RAW_DATA_PATH: str = 'data/preprocessed_datasets/non_cpd/dataset_warum_binary_unbalanced.csv'\n",
    "# define the path for the output parquet files\n",
    "EXPORTED_DATA_PATH: str = 'data/parquet_files'\n",
    "\n",
    "TRAIN_SPLIT: float = 0.8\n",
    "RANDOM_STATE: int = 42"
   ],
   "metadata": {
    "collapsed": false,
    "ExecuteTime": {
     "end_time": "2024-01-05T16:57:10.398646100Z",
     "start_time": "2024-01-05T16:57:10.366639400Z"
    }
   },
   "id": "27616bcd6b21adc3"
  },
  {
   "cell_type": "code",
   "execution_count": 235,
   "outputs": [
    {
     "data": {
      "text/plain": "                                                                                   text  \\\nidx                                                                                       \n1f09f195-f651-433a-8e43-8c7a47d07558  „Warum sollen wir Kredite nehmen, deren Tilgun...   \ncfbc74ca-cc3e-47e6-9d7d-bdd23197c8d5                    Warum wir keinen Urlaub nehmen?   \na0c1f82a-9b4a-4b98-beb1-ab3bfeef0f13  Warum wir nicht Oma und Opa zur Pflicht rufen,...   \n3aa2021c-36dd-483f-8e8f-0cf2b56ac475  Warum der Solardeckel nicht schon längst wie a...   \n48c4a9ce-0ff8-4266-a051-ce0bc723fdad  Wie Sie ihr Geld erfolgreich anlegen und warum...   \n...                                                                                 ...   \n12645839-5b80-4319-a30f-8057f48aaa79  Garantiert ein Aspekt der erklärt warum gerade...   \nced570a6-e3a9-4579-9370-25426879c7ac  Warum nicht als zentrale Anlaufstelle für Apps...   \n01727803-1d5c-4ffd-9a6f-7cea70bd2a34  Warum der Mann auf die Gleise des Bahnsteigs 5...   \ncf9c8543-24fd-4dca-9075-c72f7ca0bb50  Warum Trash? Nunja, „Pyongyang Racer“ ist kein...   \nda1a4656-e9ad-4b64-b416-1758646d5ec2                   Warum nicht zwei Dinge vereinen?   \n\n                                       label      span  \nidx                                                     \n1f09f195-f651-433a-8e43-8c7a47d07558  corona    [1, 6]  \ncfbc74ca-cc3e-47e6-9d7d-bdd23197c8d5  corona    [0, 5]  \na0c1f82a-9b4a-4b98-beb1-ab3bfeef0f13  corona    [0, 5]  \n3aa2021c-36dd-483f-8e8f-0cf2b56ac475  corona    [0, 5]  \n48c4a9ce-0ff8-4266-a051-ce0bc723fdad  corona  [41, 46]  \n...                                      ...       ...  \n12645839-5b80-4319-a30f-8057f48aaa79    web2  [34, 39]  \nced570a6-e3a9-4579-9370-25426879c7ac    web2    [0, 5]  \n01727803-1d5c-4ffd-9a6f-7cea70bd2a34    web2    [0, 5]  \ncf9c8543-24fd-4dca-9075-c72f7ca0bb50    web2    [0, 5]  \nda1a4656-e9ad-4b64-b416-1758646d5ec2    web2    [0, 5]  \n\n[9958 rows x 3 columns]",
      "text/html": "<div>\n<style scoped>\n    .dataframe tbody tr th:only-of-type {\n        vertical-align: middle;\n    }\n\n    .dataframe tbody tr th {\n        vertical-align: top;\n    }\n\n    .dataframe thead th {\n        text-align: right;\n    }\n</style>\n<table border=\"1\" class=\"dataframe\">\n  <thead>\n    <tr style=\"text-align: right;\">\n      <th></th>\n      <th>text</th>\n      <th>label</th>\n      <th>span</th>\n    </tr>\n    <tr>\n      <th>idx</th>\n      <th></th>\n      <th></th>\n      <th></th>\n    </tr>\n  </thead>\n  <tbody>\n    <tr>\n      <th>1f09f195-f651-433a-8e43-8c7a47d07558</th>\n      <td>„Warum sollen wir Kredite nehmen, deren Tilgun...</td>\n      <td>corona</td>\n      <td>[1, 6]</td>\n    </tr>\n    <tr>\n      <th>cfbc74ca-cc3e-47e6-9d7d-bdd23197c8d5</th>\n      <td>Warum wir keinen Urlaub nehmen?</td>\n      <td>corona</td>\n      <td>[0, 5]</td>\n    </tr>\n    <tr>\n      <th>a0c1f82a-9b4a-4b98-beb1-ab3bfeef0f13</th>\n      <td>Warum wir nicht Oma und Opa zur Pflicht rufen,...</td>\n      <td>corona</td>\n      <td>[0, 5]</td>\n    </tr>\n    <tr>\n      <th>3aa2021c-36dd-483f-8e8f-0cf2b56ac475</th>\n      <td>Warum der Solardeckel nicht schon längst wie a...</td>\n      <td>corona</td>\n      <td>[0, 5]</td>\n    </tr>\n    <tr>\n      <th>48c4a9ce-0ff8-4266-a051-ce0bc723fdad</th>\n      <td>Wie Sie ihr Geld erfolgreich anlegen und warum...</td>\n      <td>corona</td>\n      <td>[41, 46]</td>\n    </tr>\n    <tr>\n      <th>...</th>\n      <td>...</td>\n      <td>...</td>\n      <td>...</td>\n    </tr>\n    <tr>\n      <th>12645839-5b80-4319-a30f-8057f48aaa79</th>\n      <td>Garantiert ein Aspekt der erklärt warum gerade...</td>\n      <td>web2</td>\n      <td>[34, 39]</td>\n    </tr>\n    <tr>\n      <th>ced570a6-e3a9-4579-9370-25426879c7ac</th>\n      <td>Warum nicht als zentrale Anlaufstelle für Apps...</td>\n      <td>web2</td>\n      <td>[0, 5]</td>\n    </tr>\n    <tr>\n      <th>01727803-1d5c-4ffd-9a6f-7cea70bd2a34</th>\n      <td>Warum der Mann auf die Gleise des Bahnsteigs 5...</td>\n      <td>web2</td>\n      <td>[0, 5]</td>\n    </tr>\n    <tr>\n      <th>cf9c8543-24fd-4dca-9075-c72f7ca0bb50</th>\n      <td>Warum Trash? Nunja, „Pyongyang Racer“ ist kein...</td>\n      <td>web2</td>\n      <td>[0, 5]</td>\n    </tr>\n    <tr>\n      <th>da1a4656-e9ad-4b64-b416-1758646d5ec2</th>\n      <td>Warum nicht zwei Dinge vereinen?</td>\n      <td>web2</td>\n      <td>[0, 5]</td>\n    </tr>\n  </tbody>\n</table>\n<p>9958 rows × 3 columns</p>\n</div>"
     },
     "execution_count": 235,
     "metadata": {},
     "output_type": "execute_result"
    }
   ],
   "source": [
    "raw: pd.DataFrame = (\n",
    "    pd.read_csv(\n",
    "        RAW_DATA_PATH,\n",
    "        skiprows=[1],\n",
    "        index_col=[0],\n",
    "        dtype={\n",
    "            'text': 'string',\n",
    "            'label': 'category'\n",
    "        },\n",
    "        converters={\n",
    "            'span': ast.literal_eval\n",
    "        }\n",
    "    )\n",
    "    .rename_axis('idx')\n",
    ")\n",
    "raw"
   ],
   "metadata": {
    "collapsed": false,
    "ExecuteTime": {
     "end_time": "2024-01-05T16:57:10.531676100Z",
     "start_time": "2024-01-05T16:57:10.383643100Z"
    }
   },
   "id": "ca4e997b49dd0847"
  },
  {
   "cell_type": "code",
   "execution_count": 236,
   "outputs": [
    {
     "data": {
      "text/plain": "text     string[python]\nlabel          category\nspan             object\ndtype: object"
     },
     "execution_count": 236,
     "metadata": {},
     "output_type": "execute_result"
    }
   ],
   "source": [
    "raw.dtypes"
   ],
   "metadata": {
    "collapsed": false,
    "ExecuteTime": {
     "end_time": "2024-01-05T16:57:10.541678200Z",
     "start_time": "2024-01-05T16:57:10.525675500Z"
    }
   },
   "id": "1bdab062c3ce15d3"
  },
  {
   "cell_type": "code",
   "execution_count": 237,
   "outputs": [
    {
     "data": {
      "text/plain": "['corona', 'web2']\nCategories (2, object): ['corona', 'web2']"
     },
     "execution_count": 237,
     "metadata": {},
     "output_type": "execute_result"
    }
   ],
   "source": [
    "raw.label.unique()"
   ],
   "metadata": {
    "collapsed": false,
    "ExecuteTime": {
     "end_time": "2024-01-05T16:57:10.575687400Z",
     "start_time": "2024-01-05T16:57:10.543679Z"
    }
   },
   "id": "2212615af7dc67f4"
  },
  {
   "cell_type": "code",
   "execution_count": 238,
   "outputs": [
    {
     "data": {
      "text/plain": "label\ncorona    4996\nweb2      4962\nName: count, dtype: int64"
     },
     "execution_count": 238,
     "metadata": {},
     "output_type": "execute_result"
    }
   ],
   "source": [
    "raw.label.value_counts()"
   ],
   "metadata": {
    "collapsed": false,
    "ExecuteTime": {
     "end_time": "2024-01-05T16:57:10.634698900Z",
     "start_time": "2024-01-05T16:57:10.558682Z"
    }
   },
   "id": "3089acca343decb1"
  },
  {
   "cell_type": "code",
   "execution_count": 239,
   "outputs": [
    {
     "data": {
      "text/plain": "warum    5539\nWarum    4414\n            4\nAME?        1\nName: count, dtype: int64"
     },
     "execution_count": 239,
     "metadata": {},
     "output_type": "execute_result"
    }
   ],
   "source": [
    "(\n",
    "    raw\n",
    "    .apply(lambda row: row.text[row.span[0]:row.span[1]], axis=1)\n",
    "    .value_counts()\n",
    ")"
   ],
   "metadata": {
    "collapsed": false,
    "ExecuteTime": {
     "end_time": "2024-01-05T16:57:10.833744100Z",
     "start_time": "2024-01-05T16:57:10.574685900Z"
    }
   },
   "id": "16be57b40139dc22"
  },
  {
   "cell_type": "code",
   "execution_count": 240,
   "outputs": [],
   "source": [
    "train_split = raw.sample(\n",
    "    frac=TRAIN_SPLIT, \n",
    "    random_state=RANDOM_STATE\n",
    ")\n",
    "# define the name for the resulting train parquet file\n",
    "train_split.to_parquet(f'{EXPORTED_DATA_PATH}/warum_bu_train.parquet')"
   ],
   "metadata": {
    "collapsed": false,
    "ExecuteTime": {
     "end_time": "2024-01-05T16:57:10.861750300Z",
     "start_time": "2024-01-05T16:57:10.829743200Z"
    }
   },
   "id": "a646f9b55fbd7807"
  },
  {
   "cell_type": "code",
   "execution_count": 241,
   "outputs": [],
   "source": [
    "test_split = raw.loc[\n",
    "    raw.index.difference(train_split.index)\n",
    "]\n",
    "# define the name for the resulting test parquet file\n",
    "test_split.to_parquet(f'{EXPORTED_DATA_PATH}/warum_bu_test.parquet')"
   ],
   "metadata": {
    "collapsed": false,
    "ExecuteTime": {
     "end_time": "2024-01-05T16:57:10.880754500Z",
     "start_time": "2024-01-05T16:57:10.862750200Z"
    }
   },
   "id": "23f3871230198509"
  },
  {
   "cell_type": "code",
   "outputs": [],
   "source": [],
   "metadata": {
    "collapsed": false,
    "ExecuteTime": {
     "end_time": "2024-01-05T16:57:10.894757600Z",
     "start_time": "2024-01-05T16:57:10.878754500Z"
    }
   },
   "id": "d3515040960c92db",
   "execution_count": 241
  }
 ],
 "metadata": {
  "kernelspec": {
   "display_name": "Python 3",
   "language": "python",
   "name": "python3"
  },
  "language_info": {
   "codemirror_mode": {
    "name": "ipython",
    "version": 2
   },
   "file_extension": ".py",
   "mimetype": "text/x-python",
   "name": "python",
   "nbconvert_exporter": "python",
   "pygments_lexer": "ipython2",
   "version": "2.7.6"
  }
 },
 "nbformat": 4,
 "nbformat_minor": 5
}
