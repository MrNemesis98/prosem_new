{
 "cells": [
  {
   "cell_type": "code",
   "execution_count": 1,
   "id": "initial_id",
   "metadata": {
    "collapsed": true,
    "ExecuteTime": {
     "end_time": "2024-01-02T12:55:38.069019Z",
     "start_time": "2024-01-02T12:55:37.574871600Z"
    }
   },
   "outputs": [],
   "source": [
    "import pandas as pd\n",
    "import ast"
   ]
  },
  {
   "cell_type": "code",
   "execution_count": 20,
   "outputs": [],
   "source": [
    "RAW_DATA_PATH: str = 'data/preprocessed_datasets/dataset_maske_binary_unbalanced.csv'\n",
    "EXPORTED_DATA_PATH: str = 'data/parquet_files'\n",
    "\n",
    "TRAIN_SPLIT: float = 0.8\n",
    "RANDOM_STATE: int = 42"
   ],
   "metadata": {
    "collapsed": false,
    "ExecuteTime": {
     "end_time": "2024-01-02T15:06:41.514345400Z",
     "start_time": "2024-01-02T15:06:41.499342700Z"
    }
   },
   "id": "27616bcd6b21adc3"
  },
  {
   "cell_type": "code",
   "execution_count": 21,
   "outputs": [
    {
     "data": {
      "text/plain": "                                                                                   text  \\\nidx                                                                                       \n61ae371b-65c5-4a47-83e1-f129090ccaec  Ich lerne Unechtes und Masken zu erkennen, abz...   \n8b1f28b1-c896-43af-a134-a5c5e21ebfe5  Die beruhigende Maske von Avril wurde speziell...   \nc7e90d4d-e5e0-4c26-ae9f-d1e8a9c9f645  Kräfte, die in den Schatten gehen mussten, die...   \n7357580e-18f7-4ba5-89d8-5e9a03c2b986  Genau diese Pflanzen sind auch in der Maske en...   \n44949207-cf5c-41be-9de2-d608610d1c18  Sogar die hochgezogene Augenbraue hab’ ich gez...   \n...                                                                                 ...   \nde92135b-bf02-4655-956d-5bfc7c838900  Sie hatte ihre bis dahin kritische Haltung geg...   \n5fbba903-2b5f-45a4-966c-e03b8fef8a86  Die Organisation warnte aber erneut, dass solc...   \n5c567be3-7dd6-4567-8c53-e6975702dabf  Etwa, wenn die Masken oft angefasst oder zeitw...   \n137c4ebd-a1f8-4b7a-9abe-268f6911ba4d  Die Masken machten nur Sinn, wenn sie sachgemä...   \ndbb084bc-5b90-40e4-846a-a2f126c65af8  Die Masken sollten demnach aus drei Schichten ...   \n\n                                       label        span  \nidx                                                       \n61ae371b-65c5-4a47-83e1-f129090ccaec    web2    [23, 28]  \n8b1f28b1-c896-43af-a134-a5c5e21ebfe5    web2    [16, 21]  \nc7e90d4d-e5e0-4c26-ae9f-d1e8a9c9f645    web2  [130, 135]  \n7357580e-18f7-4ba5-89d8-5e9a03c2b986    web2    [38, 43]  \n44949207-cf5c-41be-9de2-d608610d1c18    web2    [78, 83]  \n...                                      ...         ...  \nde92135b-bf02-4655-956d-5bfc7c838900  corona  [146, 151]  \n5fbba903-2b5f-45a4-966c-e03b8fef8a86  corona    [49, 54]  \n5c567be3-7dd6-4567-8c53-e6975702dabf  corona    [15, 20]  \n137c4ebd-a1f8-4b7a-9abe-268f6911ba4d  corona      [4, 9]  \ndbb084bc-5b90-40e4-846a-a2f126c65af8  corona      [4, 9]  \n\n[14729 rows x 3 columns]",
      "text/html": "<div>\n<style scoped>\n    .dataframe tbody tr th:only-of-type {\n        vertical-align: middle;\n    }\n\n    .dataframe tbody tr th {\n        vertical-align: top;\n    }\n\n    .dataframe thead th {\n        text-align: right;\n    }\n</style>\n<table border=\"1\" class=\"dataframe\">\n  <thead>\n    <tr style=\"text-align: right;\">\n      <th></th>\n      <th>text</th>\n      <th>label</th>\n      <th>span</th>\n    </tr>\n    <tr>\n      <th>idx</th>\n      <th></th>\n      <th></th>\n      <th></th>\n    </tr>\n  </thead>\n  <tbody>\n    <tr>\n      <th>61ae371b-65c5-4a47-83e1-f129090ccaec</th>\n      <td>Ich lerne Unechtes und Masken zu erkennen, abz...</td>\n      <td>web2</td>\n      <td>[23, 28]</td>\n    </tr>\n    <tr>\n      <th>8b1f28b1-c896-43af-a134-a5c5e21ebfe5</th>\n      <td>Die beruhigende Maske von Avril wurde speziell...</td>\n      <td>web2</td>\n      <td>[16, 21]</td>\n    </tr>\n    <tr>\n      <th>c7e90d4d-e5e0-4c26-ae9f-d1e8a9c9f645</th>\n      <td>Kräfte, die in den Schatten gehen mussten, die...</td>\n      <td>web2</td>\n      <td>[130, 135]</td>\n    </tr>\n    <tr>\n      <th>7357580e-18f7-4ba5-89d8-5e9a03c2b986</th>\n      <td>Genau diese Pflanzen sind auch in der Maske en...</td>\n      <td>web2</td>\n      <td>[38, 43]</td>\n    </tr>\n    <tr>\n      <th>44949207-cf5c-41be-9de2-d608610d1c18</th>\n      <td>Sogar die hochgezogene Augenbraue hab’ ich gez...</td>\n      <td>web2</td>\n      <td>[78, 83]</td>\n    </tr>\n    <tr>\n      <th>...</th>\n      <td>...</td>\n      <td>...</td>\n      <td>...</td>\n    </tr>\n    <tr>\n      <th>de92135b-bf02-4655-956d-5bfc7c838900</th>\n      <td>Sie hatte ihre bis dahin kritische Haltung geg...</td>\n      <td>corona</td>\n      <td>[146, 151]</td>\n    </tr>\n    <tr>\n      <th>5fbba903-2b5f-45a4-966c-e03b8fef8a86</th>\n      <td>Die Organisation warnte aber erneut, dass solc...</td>\n      <td>corona</td>\n      <td>[49, 54]</td>\n    </tr>\n    <tr>\n      <th>5c567be3-7dd6-4567-8c53-e6975702dabf</th>\n      <td>Etwa, wenn die Masken oft angefasst oder zeitw...</td>\n      <td>corona</td>\n      <td>[15, 20]</td>\n    </tr>\n    <tr>\n      <th>137c4ebd-a1f8-4b7a-9abe-268f6911ba4d</th>\n      <td>Die Masken machten nur Sinn, wenn sie sachgemä...</td>\n      <td>corona</td>\n      <td>[4, 9]</td>\n    </tr>\n    <tr>\n      <th>dbb084bc-5b90-40e4-846a-a2f126c65af8</th>\n      <td>Die Masken sollten demnach aus drei Schichten ...</td>\n      <td>corona</td>\n      <td>[4, 9]</td>\n    </tr>\n  </tbody>\n</table>\n<p>14729 rows × 3 columns</p>\n</div>"
     },
     "execution_count": 21,
     "metadata": {},
     "output_type": "execute_result"
    }
   ],
   "source": [
    "raw: pd.DataFrame = (\n",
    "    pd.read_csv(\n",
    "        RAW_DATA_PATH,\n",
    "        skiprows=[1],\n",
    "        index_col=[0],\n",
    "        dtype={\n",
    "            'text': 'string',\n",
    "            'label': 'category'\n",
    "        },\n",
    "        converters={\n",
    "            'span': ast.literal_eval\n",
    "        }\n",
    "    )\n",
    "    .rename_axis('idx')\n",
    ")\n",
    "raw"
   ],
   "metadata": {
    "collapsed": false,
    "ExecuteTime": {
     "end_time": "2024-01-02T15:06:42.699611400Z",
     "start_time": "2024-01-02T15:06:42.321526600Z"
    }
   },
   "id": "ca4e997b49dd0847"
  },
  {
   "cell_type": "code",
   "execution_count": 22,
   "outputs": [
    {
     "data": {
      "text/plain": "text     string[python]\nlabel          category\nspan             object\ndtype: object"
     },
     "execution_count": 22,
     "metadata": {},
     "output_type": "execute_result"
    }
   ],
   "source": [
    "raw.dtypes"
   ],
   "metadata": {
    "collapsed": false,
    "ExecuteTime": {
     "end_time": "2024-01-02T15:06:44.874098600Z",
     "start_time": "2024-01-02T15:06:44.849092600Z"
    }
   },
   "id": "1bdab062c3ce15d3"
  },
  {
   "cell_type": "code",
   "execution_count": 23,
   "outputs": [
    {
     "data": {
      "text/plain": "['web2', 'corona']\nCategories (2, object): ['corona', 'web2']"
     },
     "execution_count": 23,
     "metadata": {},
     "output_type": "execute_result"
    }
   ],
   "source": [
    "raw.label.unique()"
   ],
   "metadata": {
    "collapsed": false,
    "ExecuteTime": {
     "end_time": "2024-01-02T15:06:48.054810Z",
     "start_time": "2024-01-02T15:06:48.032805600Z"
    }
   },
   "id": "2212615af7dc67f4"
  },
  {
   "cell_type": "code",
   "execution_count": 24,
   "outputs": [
    {
     "data": {
      "text/plain": "label\nweb2      9746\ncorona    4983\nName: count, dtype: int64"
     },
     "execution_count": 24,
     "metadata": {},
     "output_type": "execute_result"
    }
   ],
   "source": [
    "raw.label.value_counts()"
   ],
   "metadata": {
    "collapsed": false,
    "ExecuteTime": {
     "end_time": "2024-01-02T15:06:50.035254200Z",
     "start_time": "2024-01-02T15:06:50.009248500Z"
    }
   },
   "id": "3089acca343decb1"
  },
  {
   "cell_type": "code",
   "execution_count": 25,
   "outputs": [
    {
     "data": {
      "text/plain": "Maske    14718\n            11\nName: count, dtype: int64"
     },
     "execution_count": 25,
     "metadata": {},
     "output_type": "execute_result"
    }
   ],
   "source": [
    "(\n",
    "    raw\n",
    "    .apply(lambda row: row.text[row.span[0]:row.span[1]], axis=1)\n",
    "    .value_counts()\n",
    ")"
   ],
   "metadata": {
    "collapsed": false,
    "ExecuteTime": {
     "end_time": "2024-01-02T15:06:54.762311700Z",
     "start_time": "2024-01-02T15:06:54.239195800Z"
    }
   },
   "id": "16be57b40139dc22"
  },
  {
   "cell_type": "code",
   "execution_count": 26,
   "outputs": [],
   "source": [
    "train_split = raw.sample(\n",
    "    frac=TRAIN_SPLIT, \n",
    "    random_state=RANDOM_STATE\n",
    ")\n",
    "train_split.to_parquet(f'{EXPORTED_DATA_PATH}/maske_bu_train.parquet')"
   ],
   "metadata": {
    "collapsed": false,
    "ExecuteTime": {
     "end_time": "2024-01-02T15:06:58.485146500Z",
     "start_time": "2024-01-02T15:06:58.443138200Z"
    }
   },
   "id": "a646f9b55fbd7807"
  },
  {
   "cell_type": "code",
   "execution_count": 27,
   "outputs": [],
   "source": [
    "test_split = raw.loc[\n",
    "    raw.index.difference(train_split.index)\n",
    "]\n",
    "test_split.to_parquet(f'{EXPORTED_DATA_PATH}/maske_bu_test.parquet')"
   ],
   "metadata": {
    "collapsed": false,
    "ExecuteTime": {
     "end_time": "2024-01-02T15:06:59.086280600Z",
     "start_time": "2024-01-02T15:06:59.050272400Z"
    }
   },
   "id": "23f3871230198509"
  },
  {
   "cell_type": "code",
   "outputs": [],
   "source": [],
   "metadata": {
    "collapsed": false
   },
   "id": "d3515040960c92db"
  }
 ],
 "metadata": {
  "kernelspec": {
   "display_name": "Python 3",
   "language": "python",
   "name": "python3"
  },
  "language_info": {
   "codemirror_mode": {
    "name": "ipython",
    "version": 2
   },
   "file_extension": ".py",
   "mimetype": "text/x-python",
   "name": "python",
   "nbconvert_exporter": "python",
   "pygments_lexer": "ipython2",
   "version": "2.7.6"
  }
 },
 "nbformat": 4,
 "nbformat_minor": 5
}
